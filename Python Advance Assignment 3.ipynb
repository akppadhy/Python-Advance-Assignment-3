{
 "cells": [
  {
   "cell_type": "code",
   "execution_count": null,
   "id": "070a15d1-1e98-4139-b215-f7f84b9386da",
   "metadata": {},
   "outputs": [],
   "source": [
    "#1. What is the concept of an abstract superclass?\n",
    "\n",
    "Ans. An abstract class/superclass can be considered as a blueprint for other classes. \n",
    "It allows you to create a set of methods that must be created within any child classes built from the abstract class. \n",
    "A class which contains one or more abstract methods is called an abstract class."
   ]
  },
  {
   "cell_type": "code",
   "execution_count": null,
   "id": "464d09aa-0161-4f71-83aa-ac29648dc51e",
   "metadata": {},
   "outputs": [],
   "source": [
    "#2. What happens when a class statement's top level contains a basic assignment statement?\n",
    "\n",
    "Ans. When a Class statement's top level contains a basic assignment statement, its usually treated as a class attribute or class level variable.\n",
    "\n",
    "where as assignment statements inside methods are treated as instance attributes or local attributes.\n",
    "\n",
    "When an instance of a class is created a single copy of class attributes is maintained and shared to all instances of class. \n",
    "where as each instance object maintains its own copy of instance variables."
   ]
  },
  {
   "cell_type": "code",
   "execution_count": null,
   "id": "d4a98d63-d0af-4627-ab30-1c517f002215",
   "metadata": {},
   "outputs": [],
   "source": [
    "#3. Why does a class need to manually call a superclass's init method?\n",
    "\n",
    "Ans. if a child class has init method, then it will not inherit the init method of the parent class. in other words the init method of the child class overrides the init method of the parent class. \n",
    "so we have to manually call a parent superclass's init using super() method."
   ]
  },
  {
   "cell_type": "code",
   "execution_count": null,
   "id": "6a0bd657-8109-4446-8a46-06e050aa6a7d",
   "metadata": {},
   "outputs": [],
   "source": [
    "#4. How can you augment, instead of completely replacing, an inherited method?\n",
    "\n",
    "Ans. super() method can be used to augment, instead of completely replacing, an inherited method."
   ]
  },
  {
   "cell_type": "code",
   "execution_count": null,
   "id": "1beff14f-402d-4646-b09d-58400cd90d33",
   "metadata": {},
   "outputs": [],
   "source": [
    "#5. How is the local scope of a class different from that of a function?\n",
    "\n",
    "Ans. A Variable which is defined inside a function is local to that function. \n",
    "it is accesible from the point at which it is defined until the end of the function, and exists for as long as the function is existing.\n",
    "\n",
    "Similary a variable inside of a class also has a local variable scope. \n",
    "Variables which are defined in the class body (but outside all methods) are called as class level variables or class attributes.\n",
    "they can be referenced by there bare names within the same scope, but they can also be accessed from outside this scope if we use the attribute access operator (.). on a class or an instance of the class."
   ]
  }
 ],
 "metadata": {
  "kernelspec": {
   "display_name": "Python 3 (ipykernel)",
   "language": "python",
   "name": "python3"
  },
  "language_info": {
   "codemirror_mode": {
    "name": "ipython",
    "version": 3
   },
   "file_extension": ".py",
   "mimetype": "text/x-python",
   "name": "python",
   "nbconvert_exporter": "python",
   "pygments_lexer": "ipython3",
   "version": "3.10.6"
  }
 },
 "nbformat": 4,
 "nbformat_minor": 5
}
